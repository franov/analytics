{
  "nbformat": 4,
  "nbformat_minor": 0,
  "metadata": {
    "colab": {
      "provenance": [],
      "authorship_tag": "ABX9TyNWTre20p8MvDVwVZRph+4E",
      "include_colab_link": true
    },
    "kernelspec": {
      "name": "python3",
      "display_name": "Python 3"
    },
    "language_info": {
      "name": "python"
    }
  },
  "cells": [
    {
      "cell_type": "markdown",
      "metadata": {
        "id": "view-in-github",
        "colab_type": "text"
      },
      "source": [
        "<a href=\"https://colab.research.google.com/github/franov/analytics/blob/main/Programaci%C3%B3n_Usando_Arreglos.ipynb\" target=\"_parent\"><img src=\"https://colab.research.google.com/assets/colab-badge.svg\" alt=\"Open In Colab\"/></a>"
      ]
    },
    {
      "cell_type": "markdown",
      "source": [
        "# Programación usando arreglos y matrices en Python"
      ],
      "metadata": {
        "id": "If2Fa8Y_azpI"
      }
    },
    {
      "cell_type": "markdown",
      "source": [
        "## Ejercicio 1\n",
        "El producto escalar de los vectores $\\vec{v} = (v_1, v_2..., v_n)$ y $\\vec{u} = (u_1, u_2, ..., u_n)$ se puede calcular como:\n",
        "\\begin{equation}\n",
        "\\vec{v}\\times\\vec{u} = v_1u_1 + v_2u_2 + ... + v_nu_n\n",
        "\\end{equation}\n",
        "\n",
        "Construya un programa **Python** que lea dos vectores de n elementos y que calcule el producto escalar entre éstos.\n",
        "\n",
        "* **Entradas**: La entrada al programa está compuesta por un valor entero $n$ mayor que 2. Luego, vienen $2n$ valores reales correspondientes a los elementos de los vectores $\\vec{v}$ y $\\vec{u}$.\n",
        "* **Salidas**: La salida del programa es un valor real correspondiente al producto escalar entre los valores de los vectores  $\\vec{v}$ y $\\vec{u}$.\n",
        "* **Ejemplo de entrada**: $n = 6$\\\n",
        "\\begin{equation}\n",
        "A = ( 4.0\\;\\;9.0\\;\\;6.0\\;\\;{-1.0}\\;\\;3.0\\;\\; {-2.0} )\n",
        "\\end{equation}\n",
        "\\begin{equation}\n",
        "B = ( {-3.0}\\;\\;4.0\\;\\;{-7.0}\\;\\;1.0\\;\\;8.0\\;\\; {-3.0} )\n",
        "\\end{equation}\n",
        "* **Ejemplo de salida**: $11.0$\n",
        "\n"
      ],
      "metadata": {
        "id": "9BW6jvoyeqc0"
      }
    },
    {
      "cell_type": "code",
      "execution_count": 1,
      "metadata": {
        "colab": {
          "base_uri": "https://localhost:8080/"
        },
        "id": "Xv6SYfMoepw3",
        "outputId": "8b589968-7fdc-4861-f592-c9fca839af07"
      },
      "outputs": [
        {
          "output_type": "stream",
          "name": "stdout",
          "text": [
            "Ingrese el tamaño de los vectores a multiplicar: 6\n",
            "Ingresa los 6 elementos del vector A separados por espacio: 4 9 6 -1 3 -2\n",
            "Ingresa los 6 elementos del vector B separados por espacio: -3 4 -7 1 8 -3\n",
            "El resultado de la multiplicación de ambos vectores (AxB) es: 11.0\n"
          ]
        }
      ],
      "source": [
        "import numpy as np\n",
        "\n",
        "n = int(input(\"Ingrese el tamaño de los vectores a multiplicar: \"))\n",
        "A = np.array(list(map(float, input(f\"Ingresa los {n} elementos del vector A separados por espacio: \").split())))\n",
        "B = np.array(list(map(float, input(f\"Ingresa los {n} elementos del vector B separados por espacio: \").split())))\n",
        "print(f\"El resultado de la multiplicación de ambos vectores (AxB) es: {np.dot(A, B)}\")"
      ]
    },
    {
      "cell_type": "markdown",
      "source": [
        "## Ejercicio 2\n",
        "Una matriz $A$ es simétrica cuando los elementos $a_{ij}$ son iguales a los $a_{ji}$.\\\n",
        "Escriba un programa **Python** que lea una matriz $A$ de $n \\times n$ , con $2 ≤ n < 100$, y que determine si es simétrica.\n",
        "* **Entradas**: La entrada está compuesta, primero por el valor de $n$ cuyo valor debe ser mayor o igual que 2 y menor que 100. A continuación vendrán $n^2$  valores enteros correspondientes a los valores almacenados en la matriz.\n",
        "* **Salidas**: La salida del programa puede ser:\n",
        "    * La matriz es simétrica o\n",
        "    * La matriz no es simétrica.\n",
        "* **Ejemplo de entrada**: $n = 3$\n",
        "\\begin{equation}\n",
        "\\begin{pmatrix}\n",
        "    4 & 9 & 6 \\\\\n",
        "    9 & 0 & −7 \\\\\n",
        "    6 & −7 & −1\n",
        "\\end{pmatrix}\n",
        "\\end{equation}\n",
        "* **Ejemplo de Salida**: La matriz es simétrica."
      ],
      "metadata": {
        "id": "IidVmsMtoMQZ"
      }
    },
    {
      "cell_type": "code",
      "source": [
        "import numpy as np\n",
        "\n",
        "def  is_symmetric (A):\n",
        "    n, m = A.shape\n",
        "    for i in range(n):\n",
        "        for j in range(m):\n",
        "            if A[i, j] != A[j, i]:\n",
        "                return False\n",
        "    return True\n",
        "\n",
        "n = int(input(\"Ingrese el tamaño de la matriz cuadrada: \"))\n",
        "if n < 2 or n >= 100:\n",
        "    print(\"El tamaño de la matriz debe ser mayor o igual que 2 y menor que 100\")\n",
        "else:\n",
        "    A = np.matrix([list(map(int, input(f\"Ingrese los elementos de la matriz en la fila {i+1} separados por espacio: \").split())) for i in range(n)])\n",
        "\n",
        "    if is_symmetric(A):\n",
        "        print(\"La matriz es simétrica\")\n",
        "    else:\n",
        "        print(\"La matriz no es simétrica\")\n",
        "\n",
        "    print(A)\n"
      ],
      "metadata": {
        "colab": {
          "base_uri": "https://localhost:8080/"
        },
        "id": "71-RdcYwp33W",
        "outputId": "cbe7e770-c2f2-45ae-f550-7bf6aef4bdff"
      },
      "execution_count": 2,
      "outputs": [
        {
          "output_type": "stream",
          "name": "stdout",
          "text": [
            "Ingrese el tamaño de la matriz cuadrada: 3\n",
            "Ingrese los elementos de la matriz en la fila 1 separados por espacio: 4 9 6\n",
            "Ingrese los elementos de la matriz en la fila 2 separados por espacio: 9 0 -7\n",
            "Ingrese los elementos de la matriz en la fila 3 separados por espacio: 6 -7 -1\n",
            "La matriz es simétrica\n",
            "[[ 4  9  6]\n",
            " [ 9  0 -7]\n",
            " [ 6 -7 -1]]\n"
          ]
        }
      ]
    },
    {
      "cell_type": "markdown",
      "source": [
        "## Ejercicio 3\n",
        "Una matriz $B$ es triangular superior cuando los elementos de la diagonal principal (incluídos) hacia arriba son distintos de cero.\\\n",
        "Escriba un programa **Python** que lea una matriz $B$ de $n \\times n$, con $2 ≤ n < 100$, que determine si es triangular superior.\n",
        "* **Entradas**: La entrada está compuesta, primero por el valor de $n$ cuyo valor debe ser mayor o igual que 2 y menor que 100. A continuación vendrán $n^2$ valores enteros correspondientes a los valores almacenados en la\n",
        "matriz.\n",
        "* **Salidas**: La salida del programa puede ser:\n",
        "    * La matriz es triangular superior o\n",
        "    * La matriz no es triangular superior\n",
        "* **Ejemplo de entrada**: $n = 3$\n",
        "\\begin{equation}\n",
        "\\begin{pmatrix}\n",
        "    4 & 9 & 6\\\\\n",
        "    0 & 0 & −7\\\\\n",
        "    0 & 0 & −1\n",
        "\\end{pmatrix}\n",
        "\\end{equation}\n",
        "* **Ejemplo de Salida**: La matriz no es triangular superior."
      ],
      "metadata": {
        "id": "-G8DcEzYs8wz"
      }
    },
    {
      "cell_type": "code",
      "source": [
        "import numpy as np\n",
        "\n",
        "def  is_triangular (B):\n",
        "    n, m = B.shape\n",
        "    for i in range(n):\n",
        "        for j in range(m):\n",
        "            if j >= i and B[i, j] == 0:\n",
        "                return False\n",
        "    return True\n",
        "\n",
        "n = int(input(\"Ingrese el tamaño de la matriz cuadrada: \"))\n",
        "if n < 2 or n >= 100:\n",
        "    print(\"El tamaño de la matriz debe ser mayor o igual que 2 y menor que 100\")\n",
        "else:\n",
        "    B = np.matrix([list(map(int, input(f\"Ingrese los elementos de la matriz en la fila {i+1} separados por espacio: \").split())) for i in range(n)])\n",
        "\n",
        "    if is_triangular(B):\n",
        "        print(\"La matriz es triangular superior\")\n",
        "    else:\n",
        "        print(\"La matriz no es triangular superior\")\n",
        "\n",
        "    print(B)"
      ],
      "metadata": {
        "colab": {
          "base_uri": "https://localhost:8080/"
        },
        "id": "02RApGdFt0nl",
        "outputId": "e656adbf-9c7d-4c3b-a4d5-ee3e2cbcead7"
      },
      "execution_count": 3,
      "outputs": [
        {
          "output_type": "stream",
          "name": "stdout",
          "text": [
            "Ingrese el tamaño de la matriz cuadrada: 3\n",
            "Ingrese los elementos de la matriz en la fila 1 separados por espacio: 4 9 6\n",
            "Ingrese los elementos de la matriz en la fila 2 separados por espacio: 0 0 -7\n",
            "Ingrese los elementos de la matriz en la fila 3 separados por espacio: 0 0 -1\n",
            "La matriz no es triangular superior\n",
            "[[ 4  9  6]\n",
            " [ 0  0 -7]\n",
            " [ 0  0 -1]]\n"
          ]
        }
      ]
    },
    {
      "cell_type": "markdown",
      "source": [
        "## Ejercicio 4\n",
        "Dada una matriz $A = [a_{ij}]$ de orden $n × m$ se define su transpuesta como otra matriz que se representa por $A^t$ y que se obtiene intercambiando ordenadamente las fila por las columnas: $a′_{ji} = a_{ij}, ∀_i = 0, 1, ..., n − 1; ∀_j = 0, 1, ..., m − 1$. Construir un programa **Python** que lea una matriz $A$ de $n × m, (n > 1; m > 1)$ y debe ser leído y que calcule y despliegue la matriz transpuesta $A^t$.\n",
        "\n",
        "* **Entradas**: La entrada está compuesta, primero por los valores de $n$ y $m$, ambos mayores que 1. A continuación vendrán $n × m$ valores enteros correspondientes a los valores almacenados en la matriz.\n",
        "* **Salidas**: La salida del programa es una matriz de $m × n$ equivalente a la matriz $A^t$.\n",
        "* **Ejemplo de entrada**: $n = 3$ y $m = 2$\n",
        "\\begin{equation}\n",
        "\\begin{pmatrix}\n",
        "    4 & 9\\\\\n",
        "    -7 & 6\\\\\n",
        "    0 & -1\n",
        "\\end{pmatrix}\n",
        "\\end{equation}\n",
        "* **Ejemplo de salida**:\n",
        "\\begin{equation}\n",
        "    A^t =\n",
        "\\begin{pmatrix}\n",
        "    4 & -7 & 0\\\\\n",
        "    9 & 6 & -1\n",
        "\\end{pmatrix}\n",
        "\\end{equation}"
      ],
      "metadata": {
        "id": "6jiyDVizBc1d"
      }
    },
    {
      "cell_type": "code",
      "source": [
        "import numpy as np\n",
        "n = int(input(\"Ingrese el valor de n: \"))\n",
        "m = int(input(\"Ingrese el valor de m: \"))\n",
        "\n",
        "if n < 2 or m < 2:\n",
        "    print(\"El largo y el ancho de la matriz debe ser mayor a 1\")\n",
        "else:\n",
        "    A = np.matrix([list(map(int, input(f\"Ingrese los elementos de la matriz en la fila {i+1} separados por espacio: \").split())) for i in range(m)])\n",
        "    print(f\"La matriz ingresada es: \\n{A}\")\n",
        "    A_t = np.transpose(A)\n",
        "    print(f\"La matriz transpuesta es: \\n{A_t}\")\n"
      ],
      "metadata": {
        "colab": {
          "base_uri": "https://localhost:8080/"
        },
        "id": "BTbmWLOnIP4J",
        "outputId": "4313ac45-b56f-432f-f8c2-8346d1e32065"
      },
      "execution_count": 4,
      "outputs": [
        {
          "output_type": "stream",
          "name": "stdout",
          "text": [
            "Ingrese el valor de n: 2\n",
            "Ingrese el valor de m: 3\n",
            "Ingrese los elementos de la matriz en la fila 1 separados por espacio: 4 9\n",
            "Ingrese los elementos de la matriz en la fila 2 separados por espacio: -7 6\n",
            "Ingrese los elementos de la matriz en la fila 3 separados por espacio: 0 -1\n",
            "La matriz ingresada es: \n",
            "[[ 4  9]\n",
            " [-7  6]\n",
            " [ 0 -1]]\n",
            "La matriz transpuesta es: \n",
            "[[ 4 -7  0]\n",
            " [ 9  6 -1]]\n"
          ]
        }
      ]
    },
    {
      "cell_type": "markdown",
      "source": [
        "## Ejercicio 5\n",
        "Una matriz idempotente es un arreglo bidimensional $A$ de $n × n$ que tiene la propiedad $A^2 = A·A = A$.\\\n",
        "Construir un programa **Python** que lea una matriz de $n × n, (n > 1)$ y debe ser leído e indique si la matriz es idempotente.\n",
        "\n",
        "* **Entradas**: La entrada está compuesta, primero por el valor de n cuyo valor debe ser mayor que 1. A continuación, vendrán $n^2$ valores enteros correspondientes a los valores almacenados en la matriz.\n",
        "* **Salidas**: La salida del programa puede ser:\n",
        "    * La matriz es idempotente o\n",
        "    * La matriz no es idempotente.\n",
        "* **Ejemplo de entrada**: $n = 2$\n",
        "\\begin{equation}\n",
        "\\begin{pmatrix}\n",
        "    2 & -1\\\\\n",
        "    2 & -1\n",
        "\\end{pmatrix}\n",
        "\\end{equation}\n",
        "* **Ejemplo de salida**: La matriz es idempotente"
      ],
      "metadata": {
        "id": "aCKbR-LbJsh0"
      }
    },
    {
      "cell_type": "code",
      "source": [
        "import numpy as np\n",
        "n = int(input(\"Ingrese el tamaño de la matriz cuadrada: \"))\n",
        "A = np.matrix([list(map(int, input(f\"Ingrese los elementos de la matriz en la fila {i+1} separados por espacio: \").split())) for i in range(n)])\n",
        "print(f\"La matriz ingresada es: \\n{A}\")\n",
        "A2 = np.dot(A, A)\n",
        "\n",
        "if np.allclose(A, A2):\n",
        "    print(\"La matriz es idempotente.\")\n",
        "else:\n",
        "    print(f\"La matriz no es idempotente, su cuadrado es: \\n{A2}\")"
      ],
      "metadata": {
        "colab": {
          "base_uri": "https://localhost:8080/"
        },
        "id": "EEW20YjgKgo-",
        "outputId": "28c58203-cd4d-47ab-f3d8-b6ea37f52c6f"
      },
      "execution_count": 5,
      "outputs": [
        {
          "output_type": "stream",
          "name": "stdout",
          "text": [
            "Ingrese el tamaño de la matriz cuadrada: 2\n",
            "Ingrese los elementos de la matriz en la fila 1 separados por espacio: 2 -1\n",
            "Ingrese los elementos de la matriz en la fila 2 separados por espacio: 2 -1\n",
            "La matriz ingresada es: \n",
            "[[ 2 -1]\n",
            " [ 2 -1]]\n",
            "La matriz es idempotente.\n"
          ]
        }
      ]
    }
  ]
}