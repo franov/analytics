{
  "nbformat": 4,
  "nbformat_minor": 0,
  "metadata": {
    "colab": {
      "provenance": [],
      "toc_visible": true,
      "authorship_tag": "ABX9TyPZXwLXbm4N9mA0GIcmTcZE",
      "include_colab_link": true
    },
    "kernelspec": {
      "name": "python3",
      "display_name": "Python 3"
    },
    "language_info": {
      "name": "python"
    }
  },
  "cells": [
    {
      "cell_type": "markdown",
      "metadata": {
        "id": "view-in-github",
        "colab_type": "text"
      },
      "source": [
        "<a href=\"https://colab.research.google.com/github/franov/analytics/blob/main/Mi_Primer_Notebook_en_Python.ipynb\" target=\"_parent\"><img src=\"https://colab.research.google.com/assets/colab-badge.svg\" alt=\"Open In Colab\"/></a>"
      ]
    },
    {
      "cell_type": "markdown",
      "source": [
        "# Mi Primer Notebook en Python\n"
      ],
      "metadata": {
        "id": "BaGabH6aRXJH"
      }
    },
    {
      "cell_type": "markdown",
      "source": [
        "Estos ejercicios están diseñados para desarrollar una comprensión básica de la manipulación de datos utilizando ***Python***, así como para introducir librerías esenciales como *Numpy*, *Pandas* y *Matplotlib*. A medida que te familiarices con estas herramientas, podrás abordar problemas de análisis de datos más complejos."
      ],
      "metadata": {
        "id": "5hGjyqZVuqrj"
      }
    },
    {
      "cell_type": "markdown",
      "source": [
        "##Asignación de variables e impresión por pantalla"
      ],
      "metadata": {
        "id": "GOuNxYaGWf-4"
      }
    },
    {
      "cell_type": "markdown",
      "source": [
        "La **asignación de variables** en programación es el proceso de almacenar un valor en una variable. Conocer cómo y cuándo asignar variables es fundamental, ya que permite a los programadores almacenar temporalmente datos que se utilizarán y manipularán en todo el código. Las variables actúan como contenedores para datos, y su correcta asignación es crucial para la gestión eficiente de la memoria, la claridad del código, y la implementación de lógicas complejas en programas. Una buena práctica en la asignación de variables mejora la legibilidad del código y facilita el mantenimiento y la depuración."
      ],
      "metadata": {
        "id": "ioeQjbZ3xY3p"
      }
    },
    {
      "cell_type": "code",
      "execution_count": 1,
      "metadata": {
        "colab": {
          "base_uri": "https://localhost:8080/"
        },
        "id": "2tF49PvNQkTH",
        "outputId": "729c76db-1889-4c7b-ba88-57bdd85678ee"
      },
      "outputs": [
        {
          "output_type": "stream",
          "name": "stdout",
          "text": [
            "100\n"
          ]
        }
      ],
      "source": [
        "# Declarar una variable tipo entero e imprimirla en pantalla\n",
        "n = 100\n",
        "print(n)"
      ]
    },
    {
      "cell_type": "code",
      "source": [
        "# Declarar una variable tipo string, asignarle un texto e imprimirla por pantalla\n",
        "s = \"Hola mundo\"\n",
        "print(s)"
      ],
      "metadata": {
        "colab": {
          "base_uri": "https://localhost:8080/"
        },
        "id": "ycAsiTTlSgtw",
        "outputId": "7cb5dd7b-8400-4ed6-ce45-2deedf92f150"
      },
      "execution_count": 2,
      "outputs": [
        {
          "output_type": "stream",
          "name": "stdout",
          "text": [
            "Hola mundo\n"
          ]
        }
      ]
    },
    {
      "cell_type": "code",
      "source": [
        "# Declarar una variable de tipo numerica, sumarle uno y mostrar el resultado\n",
        "n = 10\n",
        "n = n + 1\n",
        "print(n)"
      ],
      "metadata": {
        "colab": {
          "base_uri": "https://localhost:8080/"
        },
        "id": "oP9in4UwTry4",
        "outputId": "4a55d049-31a2-473f-dd37-abd27c9a1d13"
      },
      "execution_count": 3,
      "outputs": [
        {
          "output_type": "stream",
          "name": "stdout",
          "text": [
            "11\n"
          ]
        }
      ]
    },
    {
      "cell_type": "code",
      "source": [
        "# Imprimir un número y sumarle uno, volviéndolo a imprimir\n",
        "print(n)\n",
        "n += 1\n",
        "print(n)"
      ],
      "metadata": {
        "colab": {
          "base_uri": "https://localhost:8080/"
        },
        "id": "QjQENBteUGye",
        "outputId": "f8b0f9dd-1b86-4f10-fb79-e13ab0f530c7"
      },
      "execution_count": 4,
      "outputs": [
        {
          "output_type": "stream",
          "name": "stdout",
          "text": [
            "11\n",
            "12\n"
          ]
        }
      ]
    },
    {
      "cell_type": "markdown",
      "source": [
        "## Introducción a Numpy"
      ],
      "metadata": {
        "id": "_2Bo7qpJWp2k"
      }
    },
    {
      "cell_type": "markdown",
      "source": [
        "**Numpy** es una biblioteca para el lenguaje de programación *Python*, que añade soporte para arreglos y matrices grandes y multidimensionales, junto con una colección de funciones matemáticas para operar en estas estructuras de datos de manera eficiente. Se utiliza ampliamente en ciencia de datos para tareas de manipulación numérica, transformación de datos, y como la base sobre la cual se construyen otras librerías especializadas."
      ],
      "metadata": {
        "id": "p8rmdh88vDO_"
      }
    },
    {
      "cell_type": "code",
      "source": [
        "# Importamos la biblioteca Numpy\n",
        "import numpy as np"
      ],
      "metadata": {
        "id": "w-elpoQBWuMr"
      },
      "execution_count": 5,
      "outputs": []
    },
    {
      "cell_type": "code",
      "source": [
        "# Crear una arreglo Numpy en base a una lista\n",
        "lista = [1,2,3,4,5]\n",
        "arreglo = np.array(lista)\n",
        "print(arreglo)"
      ],
      "metadata": {
        "colab": {
          "base_uri": "https://localhost:8080/"
        },
        "id": "lRr5XoQlXTgU",
        "outputId": "58c814b3-8d97-4125-b399-4c81e39424c8"
      },
      "execution_count": 6,
      "outputs": [
        {
          "output_type": "stream",
          "name": "stdout",
          "text": [
            "[1 2 3 4 5]\n"
          ]
        }
      ]
    },
    {
      "cell_type": "code",
      "source": [
        "# Mostrar el tipo de datos de la lista\n",
        "type(lista)"
      ],
      "metadata": {
        "colab": {
          "base_uri": "https://localhost:8080/"
        },
        "id": "A1R-ThCuX3os",
        "outputId": "4503752b-19dd-44a7-d45d-d7f7728f1411"
      },
      "execution_count": 7,
      "outputs": [
        {
          "output_type": "execute_result",
          "data": {
            "text/plain": [
              "list"
            ]
          },
          "metadata": {},
          "execution_count": 7
        }
      ]
    },
    {
      "cell_type": "code",
      "source": [
        "# Mostrar el tupo de datos del arreglo\n",
        "type(arreglo)"
      ],
      "metadata": {
        "colab": {
          "base_uri": "https://localhost:8080/"
        },
        "id": "lnjhUO2nYc6j",
        "outputId": "ad5eda99-1ba9-446e-eddc-c4f0b3c81ebf"
      },
      "execution_count": 8,
      "outputs": [
        {
          "output_type": "execute_result",
          "data": {
            "text/plain": [
              "numpy.ndarray"
            ]
          },
          "metadata": {},
          "execution_count": 8
        }
      ]
    },
    {
      "cell_type": "code",
      "source": [
        "# Agregar dos elementos nuevos al arreglo\n",
        "arreglo = np.append(arreglo, [6,7])\n",
        "print(arreglo)"
      ],
      "metadata": {
        "colab": {
          "base_uri": "https://localhost:8080/"
        },
        "id": "Y6Z3tmYBYm2y",
        "outputId": "78bec173-451f-45c6-c567-2d519c9f2100"
      },
      "execution_count": 9,
      "outputs": [
        {
          "output_type": "stream",
          "name": "stdout",
          "text": [
            "[1 2 3 4 5 6 7]\n"
          ]
        }
      ]
    },
    {
      "cell_type": "code",
      "source": [
        "# Creación de un arreglo de 10 variables automáticamente\n",
        "arreglo = np.arange(10)\n",
        "print(arreglo)"
      ],
      "metadata": {
        "colab": {
          "base_uri": "https://localhost:8080/"
        },
        "id": "sZhHMd6BYx5y",
        "outputId": "c9c136d2-5f2d-47c6-ba61-906d6e278ce6"
      },
      "execution_count": 10,
      "outputs": [
        {
          "output_type": "stream",
          "name": "stdout",
          "text": [
            "[0 1 2 3 4 5 6 7 8 9]\n"
          ]
        }
      ]
    },
    {
      "cell_type": "code",
      "source": [
        "# Creación de un arreglo de 10 variables automáticamente, partiendo del 100\n",
        "arreglo = np.arange(100, 110)\n",
        "print(arreglo)"
      ],
      "metadata": {
        "colab": {
          "base_uri": "https://localhost:8080/"
        },
        "id": "dgpuKqrrZLWb",
        "outputId": "e8698d34-979e-4c25-bd47-7d2a66b9bd34"
      },
      "execution_count": 11,
      "outputs": [
        {
          "output_type": "stream",
          "name": "stdout",
          "text": [
            "[100 101 102 103 104 105 106 107 108 109]\n"
          ]
        }
      ]
    },
    {
      "cell_type": "code",
      "source": [
        "# Creación de un arreglo de 10 variables de tipo float\n",
        "arreglo = np.arange(10, dtype=float)\n",
        "print(arreglo)"
      ],
      "metadata": {
        "colab": {
          "base_uri": "https://localhost:8080/"
        },
        "id": "djpk-CNgZhuH",
        "outputId": "4e95f121-fa41-4ebb-812a-d0363853df1e"
      },
      "execution_count": 12,
      "outputs": [
        {
          "output_type": "stream",
          "name": "stdout",
          "text": [
            "[0. 1. 2. 3. 4. 5. 6. 7. 8. 9.]\n"
          ]
        }
      ]
    },
    {
      "cell_type": "code",
      "source": [
        "# Creación de un arreglo de 10 variables de tipo complex\n",
        "arreglo = np.arange(10, dtype=complex)\n",
        "print(arreglo)"
      ],
      "metadata": {
        "colab": {
          "base_uri": "https://localhost:8080/"
        },
        "id": "cSLSxc2YZs7K",
        "outputId": "c259cba4-9fca-4b68-e33a-4144d3475b82"
      },
      "execution_count": 13,
      "outputs": [
        {
          "output_type": "stream",
          "name": "stdout",
          "text": [
            "[0.+0.j 1.+0.j 2.+0.j 3.+0.j 4.+0.j 5.+0.j 6.+0.j 7.+0.j 8.+0.j 9.+0.j]\n"
          ]
        }
      ]
    },
    {
      "cell_type": "code",
      "source": [
        "# Obtenga los primeros 5 elementos de un arreglo\n",
        "arreglo = np.arange(10)*100\n",
        "print(arreglo)\n",
        "print(arreglo[:5])"
      ],
      "metadata": {
        "colab": {
          "base_uri": "https://localhost:8080/"
        },
        "id": "02fnwOUNZ3z5",
        "outputId": "6d9bc483-c93f-4576-b0ba-d3f5ae21dce0"
      },
      "execution_count": 14,
      "outputs": [
        {
          "output_type": "stream",
          "name": "stdout",
          "text": [
            "[  0 100 200 300 400 500 600 700 800 900]\n",
            "[  0 100 200 300 400]\n"
          ]
        }
      ]
    },
    {
      "cell_type": "code",
      "source": [
        "# Obtenga los últimos 5 elementos del arreglo\n",
        "print(arreglo[-5:])"
      ],
      "metadata": {
        "colab": {
          "base_uri": "https://localhost:8080/"
        },
        "id": "aDh8dmsPbIOz",
        "outputId": "8aa250de-129c-4291-ea9a-51259df172f5"
      },
      "execution_count": 15,
      "outputs": [
        {
          "output_type": "stream",
          "name": "stdout",
          "text": [
            "[500 600 700 800 900]\n"
          ]
        }
      ]
    },
    {
      "cell_type": "code",
      "source": [
        "# Imprime las posiciones pares del arreglo\n",
        "print(arreglo[::2])"
      ],
      "metadata": {
        "colab": {
          "base_uri": "https://localhost:8080/"
        },
        "id": "fvGY4ITQbUTc",
        "outputId": "285203a3-af70-49d0-e082-728cd2b437ea"
      },
      "execution_count": 16,
      "outputs": [
        {
          "output_type": "stream",
          "name": "stdout",
          "text": [
            "[  0 200 400 600 800]\n"
          ]
        }
      ]
    },
    {
      "cell_type": "code",
      "source": [
        "# Añade el número 11 al final de la lista e imprime la lista completa.\n",
        "lista = np.array([1,2,3,4,5,6,7,8,9,10])\n",
        "lista = np.append(lista, 11)\n",
        "print(lista)"
      ],
      "metadata": {
        "colab": {
          "base_uri": "https://localhost:8080/"
        },
        "id": "yJfdGu9roeCT",
        "outputId": "eae456bd-d11a-4960-b54c-1c242e680032"
      },
      "execution_count": 17,
      "outputs": [
        {
          "output_type": "stream",
          "name": "stdout",
          "text": [
            "[ 1  2  3  4  5  6  7  8  9 10 11]\n"
          ]
        }
      ]
    },
    {
      "cell_type": "markdown",
      "source": [
        "## Uso de Diccionarios para Almacenar Datos"
      ],
      "metadata": {
        "id": "M_SVOMm0owmy"
      }
    },
    {
      "cell_type": "markdown",
      "source": [
        "Los **diccionarios** en *Python* son estructuras de datos que almacenan pares de clave-valor, permitiendo una rápida inserción, eliminación y búsqueda de valores usando claves únicas. Son extremadamente útiles para organizar datos de manera eficiente, facilitando la representación de información compleja (como datos de contactos, configuraciones o cualquier otro tipo de información organizada) de forma accesible y modificable."
      ],
      "metadata": {
        "id": "7kks4Z06wUN9"
      }
    },
    {
      "cell_type": "code",
      "source": [
        "# Crea un diccionario en Python para almacenar nombres de estudiantes y sus respectivas calificaciones. Por ejemplo, {\"Ana\": 9.5, \"Luis\": 8.2, \"Pedro\": 7.5}.\n",
        "diccionario = {\"Ana\": 9.5, \"Luis\": 8.2, \"Pedro\": 7.5}\n",
        "print(diccionario)"
      ],
      "metadata": {
        "colab": {
          "base_uri": "https://localhost:8080/"
        },
        "id": "B9DBq7G9o8ef",
        "outputId": "192a015a-1d76-410d-aad1-6fd3a68b0afe"
      },
      "execution_count": 18,
      "outputs": [
        {
          "output_type": "stream",
          "name": "stdout",
          "text": [
            "{'Ana': 9.5, 'Luis': 8.2, 'Pedro': 7.5}\n"
          ]
        }
      ]
    },
    {
      "cell_type": "code",
      "source": [
        "# Imprime las calificaciones de todos los estudiantes.\n",
        "print(diccionario.values())"
      ],
      "metadata": {
        "colab": {
          "base_uri": "https://localhost:8080/"
        },
        "id": "FqKx19PRpB8T",
        "outputId": "9ef785e4-b38b-4926-d3de-ede0bd59fe94"
      },
      "execution_count": 19,
      "outputs": [
        {
          "output_type": "stream",
          "name": "stdout",
          "text": [
            "dict_values([9.5, 8.2, 7.5])\n"
          ]
        }
      ]
    },
    {
      "cell_type": "code",
      "source": [
        "# Añade un nuevo estudiante con su calificación al diccionario e imprime el diccionario actualizado.\n",
        "diccionario[\"Maria\"] = 9.0\n",
        "print(diccionario)"
      ],
      "metadata": {
        "colab": {
          "base_uri": "https://localhost:8080/"
        },
        "id": "OjLE6t33pGS9",
        "outputId": "321dc1cc-8c23-424a-bf5c-33535a96e09c"
      },
      "execution_count": 20,
      "outputs": [
        {
          "output_type": "stream",
          "name": "stdout",
          "text": [
            "{'Ana': 9.5, 'Luis': 8.2, 'Pedro': 7.5, 'Maria': 9.0}\n"
          ]
        }
      ]
    },
    {
      "cell_type": "code",
      "source": [
        "# Calcula el promedio de las calificaciones de todos los estudiantes.\n",
        "promedio = sum(diccionario.values()) / len(diccionario)\n",
        "print(promedio)"
      ],
      "metadata": {
        "colab": {
          "base_uri": "https://localhost:8080/"
        },
        "id": "Qx4kEK4npLNE",
        "outputId": "fd6a8904-4c24-4262-a3d4-e02481235e6f"
      },
      "execution_count": 21,
      "outputs": [
        {
          "output_type": "stream",
          "name": "stdout",
          "text": [
            "8.55\n"
          ]
        }
      ]
    },
    {
      "cell_type": "code",
      "source": [
        "# Utilizando Numpy con la función mean()\n",
        "promedio = np.mean(list(diccionario.values()))\n",
        "print(promedio)"
      ],
      "metadata": {
        "colab": {
          "base_uri": "https://localhost:8080/"
        },
        "id": "3XDvMNV_pNQo",
        "outputId": "3a5f3718-0865-4548-a899-50776a37310b"
      },
      "execution_count": 22,
      "outputs": [
        {
          "output_type": "stream",
          "name": "stdout",
          "text": [
            "8.55\n"
          ]
        }
      ]
    },
    {
      "cell_type": "code",
      "source": [
        "# # Utilizando Numpy con la función average()\n",
        "promedio = np.average(list(diccionario.values()))\n",
        "print(promedio)"
      ],
      "metadata": {
        "colab": {
          "base_uri": "https://localhost:8080/"
        },
        "id": "pu8Fy2_PpSFu",
        "outputId": "9df5e313-6367-4ea9-c224-ddea90114ccf"
      },
      "execution_count": 23,
      "outputs": [
        {
          "output_type": "stream",
          "name": "stdout",
          "text": [
            "8.55\n"
          ]
        }
      ]
    },
    {
      "cell_type": "markdown",
      "source": [
        "## Introducción a Pandas"
      ],
      "metadata": {
        "id": "CQGHV3gNpv4s"
      }
    },
    {
      "cell_type": "markdown",
      "source": [
        "**Pandas** es una herramienta de manipulación y análisis de datos de código abierto rápida, potente, flexible y fácil de usar, construida sobre el lenguaje de programación *Python*. Ofrece estructuras de datos como Series y *DataFrames*, facilitando la manipulación de datos tabulares (como hojas de cálculo), limpieza, inspección, y análisis complejo de manera sencilla y eficiente."
      ],
      "metadata": {
        "id": "DlYLtYNIvxn8"
      }
    },
    {
      "cell_type": "code",
      "source": [
        "# Instala la librería Pandas\n",
        "import pandas as pd"
      ],
      "metadata": {
        "id": "q09WaAIip0fP"
      },
      "execution_count": 24,
      "outputs": []
    },
    {
      "cell_type": "code",
      "source": [
        "# Crea un diccionario que contenga las columnas Nombre, Edad y Ciudad\n",
        "diccionario = {\"Nombre\": [\"Juan\", \"Maria\", \"Pedro\", \"Lucas\", \"Francisco\"], \"Edad\": [25, 30, 35, 22, 39], \"Ciudad\": [\"Concepción\", \"Santiago\", \"Viña del Mar\", \"Puerto Montt\", \"La Serena\"]}\n",
        "print(diccionario)"
      ],
      "metadata": {
        "colab": {
          "base_uri": "https://localhost:8080/"
        },
        "id": "ggtVF-L3p8ck",
        "outputId": "a3bb274e-9215-4744-bf5f-6ded61591581"
      },
      "execution_count": 25,
      "outputs": [
        {
          "output_type": "stream",
          "name": "stdout",
          "text": [
            "{'Nombre': ['Juan', 'Maria', 'Pedro', 'Lucas', 'Francisco'], 'Edad': [25, 30, 35, 22, 39], 'Ciudad': ['Concepción', 'Santiago', 'Viña del Mar', 'Puerto Montt', 'La Serena']}\n"
          ]
        }
      ]
    },
    {
      "cell_type": "code",
      "source": [
        "# Crea un Dataframe basado en el diccionario\n",
        "df = pd.DataFrame(diccionario)\n",
        "print(df)"
      ],
      "metadata": {
        "colab": {
          "base_uri": "https://localhost:8080/"
        },
        "id": "bOQ0mSkMqXZm",
        "outputId": "1b098261-ee80-46c1-d73d-889bf995d595"
      },
      "execution_count": 26,
      "outputs": [
        {
          "output_type": "stream",
          "name": "stdout",
          "text": [
            "      Nombre  Edad        Ciudad\n",
            "0       Juan    25    Concepción\n",
            "1      Maria    30      Santiago\n",
            "2      Pedro    35  Viña del Mar\n",
            "3      Lucas    22  Puerto Montt\n",
            "4  Francisco    39     La Serena\n"
          ]
        }
      ]
    },
    {
      "cell_type": "code",
      "source": [
        "# Selecciona e imprime solo la columna Nombre.\n",
        "print(df[\"Nombre\"])"
      ],
      "metadata": {
        "colab": {
          "base_uri": "https://localhost:8080/"
        },
        "id": "hvGjiZrnqdWG",
        "outputId": "7aea1092-c5b6-4eca-e589-27922c211424"
      },
      "execution_count": 27,
      "outputs": [
        {
          "output_type": "stream",
          "name": "stdout",
          "text": [
            "0         Juan\n",
            "1        Maria\n",
            "2        Pedro\n",
            "3        Lucas\n",
            "4    Francisco\n",
            "Name: Nombre, dtype: object\n"
          ]
        }
      ]
    },
    {
      "cell_type": "code",
      "source": [
        "# Filtra e imprime solo las filas de las personas mayores de 25 años.\n",
        "print(df[df[\"Edad\"] > 25])"
      ],
      "metadata": {
        "colab": {
          "base_uri": "https://localhost:8080/"
        },
        "id": "aSnrvLKdqg3g",
        "outputId": "3acc99bc-b10e-4fc8-e975-24d71212965c"
      },
      "execution_count": 28,
      "outputs": [
        {
          "output_type": "stream",
          "name": "stdout",
          "text": [
            "      Nombre  Edad        Ciudad\n",
            "1      Maria    30      Santiago\n",
            "2      Pedro    35  Viña del Mar\n",
            "4  Francisco    39     La Serena\n"
          ]
        }
      ]
    },
    {
      "cell_type": "markdown",
      "source": [
        "## Manipulación de DataFrames"
      ],
      "metadata": {
        "id": "lh-gXPySrEnw"
      }
    },
    {
      "cell_type": "markdown",
      "source": [
        "Los **DataFrames** son estructuras de datos bidimensionales y heterogéneas proporcionadas por la biblioteca *Pandas*, similares a las tablas de bases de datos o las hojas de cálculo. Permiten almacenar y manipular datos con filas y columnas etiquetadas, donde cada columna puede contener datos de diferentes tipos. Son ampliamente utilizados en análisis de datos para la limpieza, transformación, agregación y visualización de datos complejos, facilitando el análisis estadístico y la toma de decisiones basada en datos."
      ],
      "metadata": {
        "id": "hGLQgG0hwm_O"
      }
    },
    {
      "cell_type": "code",
      "source": [
        "# Añade una nueva columna llamada Profesión y rellénala con datos.\n",
        "df[\"Profesión\"] = [\"Ingeniero\", \"Arquitecto\", \"Diseñador\", \"Ingeniero\", \"Ingeniero\"]\n",
        "print(df)"
      ],
      "metadata": {
        "colab": {
          "base_uri": "https://localhost:8080/"
        },
        "id": "TM9xIAmmrGLQ",
        "outputId": "26dc264b-c87e-45cc-e09c-d94e236e7b2f"
      },
      "execution_count": 29,
      "outputs": [
        {
          "output_type": "stream",
          "name": "stdout",
          "text": [
            "      Nombre  Edad        Ciudad   Profesión\n",
            "0       Juan    25    Concepción   Ingeniero\n",
            "1      Maria    30      Santiago  Arquitecto\n",
            "2      Pedro    35  Viña del Mar   Diseñador\n",
            "3      Lucas    22  Puerto Montt   Ingeniero\n",
            "4  Francisco    39     La Serena   Ingeniero\n"
          ]
        }
      ]
    },
    {
      "cell_type": "code",
      "source": [
        "# Elimina la columna Edad del DataFrame.\n",
        "df = df.drop(\"Edad\", axis=1)\n",
        "print(df)"
      ],
      "metadata": {
        "colab": {
          "base_uri": "https://localhost:8080/"
        },
        "id": "5oBeyaXQrWB1",
        "outputId": "3fddb3e3-973a-4b3f-c21d-8b9c71ebcb70"
      },
      "execution_count": 30,
      "outputs": [
        {
          "output_type": "stream",
          "name": "stdout",
          "text": [
            "      Nombre        Ciudad   Profesión\n",
            "0       Juan    Concepción   Ingeniero\n",
            "1      Maria      Santiago  Arquitecto\n",
            "2      Pedro  Viña del Mar   Diseñador\n",
            "3      Lucas  Puerto Montt   Ingeniero\n",
            "4  Francisco     La Serena   Ingeniero\n"
          ]
        }
      ]
    },
    {
      "cell_type": "code",
      "source": [
        "# Ordena el DataFrame por la columna Nombre en orden ascendente.\n",
        "df = df.sort_values(\"Nombre\")\n",
        "print(df)"
      ],
      "metadata": {
        "colab": {
          "base_uri": "https://localhost:8080/"
        },
        "id": "3RyieEQ2rZAb",
        "outputId": "98ca0ad1-57bd-4d6a-bf45-fcbc1cd4bea4"
      },
      "execution_count": 31,
      "outputs": [
        {
          "output_type": "stream",
          "name": "stdout",
          "text": [
            "      Nombre        Ciudad   Profesión\n",
            "4  Francisco     La Serena   Ingeniero\n",
            "0       Juan    Concepción   Ingeniero\n",
            "3      Lucas  Puerto Montt   Ingeniero\n",
            "1      Maria      Santiago  Arquitecto\n",
            "2      Pedro  Viña del Mar   Diseñador\n"
          ]
        }
      ]
    },
    {
      "cell_type": "markdown",
      "source": [
        "## Visualización de Datos con Matplotlib"
      ],
      "metadata": {
        "id": "GGPby5wYrfsW"
      }
    },
    {
      "cell_type": "markdown",
      "source": [
        "**Matplotlib** es una biblioteca de trazado para el lenguaje de programación *Python* y su extensión matemática *NumPy*. Permite crear gráficos estáticos, animados e interactivos de alta calidad en una variedad de formatos de salida. Se usa comúnmente para visualizar datos, explorar tendencias y patrones en los datos, y para comunicar resultados de análisis a través de visualizaciones claras y comprensibles."
      ],
      "metadata": {
        "id": "3xXZHjOrv3Du"
      }
    },
    {
      "cell_type": "code",
      "source": [
        "# Instala Matplotlib\n",
        "import matplotlib.pyplot as plt"
      ],
      "metadata": {
        "id": "HPZmLcM5rgzE"
      },
      "execution_count": 32,
      "outputs": []
    },
    {
      "cell_type": "code",
      "source": [
        "# Vuelve a agregar la columna Edad al dataset\n",
        "df[\"Edad\"] = [25, 30, 35, 22, 39]\n",
        "print(df)"
      ],
      "metadata": {
        "colab": {
          "base_uri": "https://localhost:8080/"
        },
        "id": "3bj1BpFnr4dF",
        "outputId": "81119ed8-3214-4296-8e76-09f73a2c3383"
      },
      "execution_count": 33,
      "outputs": [
        {
          "output_type": "stream",
          "name": "stdout",
          "text": [
            "      Nombre        Ciudad   Profesión  Edad\n",
            "4  Francisco     La Serena   Ingeniero    25\n",
            "0       Juan    Concepción   Ingeniero    30\n",
            "3      Lucas  Puerto Montt   Ingeniero    35\n",
            "1      Maria      Santiago  Arquitecto    22\n",
            "2      Pedro  Viña del Mar   Diseñador    39\n"
          ]
        }
      ]
    },
    {
      "cell_type": "code",
      "source": [
        "# Crea un gráfico de barras que muestre la edad de las personas en el eje Y.\n",
        "plt.bar(df[\"Nombre\"], df[\"Edad\"])\n",
        "plt.show()"
      ],
      "metadata": {
        "colab": {
          "base_uri": "https://localhost:8080/",
          "height": 430
        },
        "id": "ARfH52mJrspW",
        "outputId": "9ead6077-bbdf-4d82-ae35-b443ed0e92f0"
      },
      "execution_count": 34,
      "outputs": [
        {
          "output_type": "display_data",
          "data": {
            "text/plain": [
              "<Figure size 640x480 with 1 Axes>"
            ],
            "image/png": "[encoded data removed]"
          },
          "metadata": {}
        }
      ]
    },
    {
      "cell_type": "code",
      "source": [
        "# Añade títulos a los ejes y un título general al gráfico.\n",
        "plt.bar(df[\"Nombre\"], df[\"Edad\"])\n",
        "plt.xlabel(\"Nombre\")\n",
        "plt.ylabel(\"Edad\")\n",
        "plt.title(\"Edad de las personas\")\n",
        "plt.show()"
      ],
      "metadata": {
        "colab": {
          "base_uri": "https://localhost:8080/",
          "height": 472
        },
        "id": "CsTWP2per_dU",
        "outputId": "cf051400-9e5b-45d3-8e04-c3f737d9bdf6"
      },
      "execution_count": 35,
      "outputs": [
        {
          "output_type": "display_data",
          "data": {
            "text/plain": [
              "<Figure size 640x480 with 1 Axes>"
            ],
            "image/png": "[encoded data removed]"
          },
          "metadata": {}
        }
      ]
    },
    {
      "cell_type": "code",
      "source": [
        "# Guarda el gráfico como una imagen en tu sistema.\n",
        "plt.bar(df[\"Nombre\"], df[\"Edad\"])\n",
        "plt.xlabel(\"Nombre\")\n",
        "plt.ylabel(\"Edad\")\n",
        "plt.title(\"Edad de las personas\")\n",
        "plt.savefig(\"edad_personas.png\")\n",
        "plt.show()"
      ],
      "metadata": {
        "colab": {
          "base_uri": "https://localhost:8080/",
          "height": 472
        },
        "id": "vKgnHlrzsM20",
        "outputId": "f1974a06-4083-46bb-9769-eab9b63d9ae1"
      },
      "execution_count": 36,
      "outputs": [
        {
          "output_type": "display_data",
          "data": {
            "text/plain": [
              "<Figure size 640x480 with 1 Axes>"
            ],
            "image/png": "[encoded data removed]"
          },
          "metadata": {}
        }
      ]
    },
    {
      "cell_type": "markdown",
      "source": [
        "## Manipulación de Archivos"
      ],
      "metadata": {
        "id": "KDXHOHBqssHR"
      }
    },
    {
      "cell_type": "markdown",
      "source": [
        "La **manipulación de archivos** en programación permite leer, escribir, abrir, cerrar y modificar archivos almacenados en el disco. En *Python*, esto se logra a través de funciones integradas que brindan la capacidad de trabajar con varios formatos de archivos, como texto plano, CSV, JSON, y más. Esto es esencial para el análisis de datos, ya que permite a los analistas cargar datos desde archivos para su procesamiento y análisis, así como guardar los resultados de dicho análisis en archivos para su posterior uso o visualización."
      ],
      "metadata": {
        "id": "BzaiMQJyw2xm"
      }
    },
    {
      "cell_type": "code",
      "source": [
        "# Crea un Dataframe con los nombres de 10 ciudades\n",
        "df = pd.DataFrame(\n",
        "    {\"Ciudad\": [\n",
        "        \"Concepción\",\n",
        "        \"Santiago\",\n",
        "        \"Viña del Mar\",\n",
        "        \"Valparaíso\",\n",
        "        \"Puerto Montt\",\n",
        "        \"La Serena\",\n",
        "        \"Punta Arenas\",\n",
        "        \"Iquique\",\n",
        "        \"Antofagasta\",\n",
        "        \"Valdivia\"\n",
        "    ]})\n",
        "print(df)"
      ],
      "metadata": {
        "colab": {
          "base_uri": "https://localhost:8080/"
        },
        "id": "jnTRGg9PtQBq",
        "outputId": "329c71fd-6ff2-4bf4-9f37-409a29624b2c"
      },
      "execution_count": 37,
      "outputs": [
        {
          "output_type": "stream",
          "name": "stdout",
          "text": [
            "         Ciudad\n",
            "0    Concepción\n",
            "1      Santiago\n",
            "2  Viña del Mar\n",
            "3    Valparaíso\n",
            "4  Puerto Montt\n",
            "5     La Serena\n",
            "6  Punta Arenas\n",
            "7       Iquique\n",
            "8   Antofagasta\n",
            "9      Valdivia\n"
          ]
        }
      ]
    },
    {
      "cell_type": "code",
      "source": [
        "# Guarda el Dataframe en un archivo llamado ciudades.txt\n",
        "df.to_csv(\"ciudades.txt\", index=False)"
      ],
      "metadata": {
        "id": "NI4bim7DtP-x"
      },
      "execution_count": 38,
      "outputs": []
    },
    {
      "cell_type": "code",
      "source": [
        "# Utiliza Python para abrir y leer el archivo, e imprime el contenido en la consola.\n",
        "with open(\"ciudades.txt\", \"r\") as f:\n",
        "    print(f.read())"
      ],
      "metadata": {
        "colab": {
          "base_uri": "https://localhost:8080/"
        },
        "id": "woDbw3jAstpv",
        "outputId": "b12ed4a5-32f0-4491-98fb-afb2bd9080a1"
      },
      "execution_count": 39,
      "outputs": [
        {
          "output_type": "stream",
          "name": "stdout",
          "text": [
            "Ciudad\n",
            "Concepción\n",
            "Santiago\n",
            "Viña del Mar\n",
            "Valparaíso\n",
            "Puerto Montt\n",
            "La Serena\n",
            "Punta Arenas\n",
            "Iquique\n",
            "Antofagasta\n",
            "Valdivia\n",
            "\n"
          ]
        }
      ]
    },
    {
      "cell_type": "code",
      "source": [
        "# Añade al archivo dos ciudades más sin borrar las anteriores y vuelve a imprimir el contenido.\n",
        "with open(\"ciudades.txt\", \"a\") as f:\n",
        "    f.write(\"Talca\\nTemuco\")"
      ],
      "metadata": {
        "id": "mTAn_nYFt_tg"
      },
      "execution_count": 40,
      "outputs": []
    },
    {
      "cell_type": "code",
      "source": [
        "# Muestra el contenido del archivo con las nuevas ciudades\n",
        "with open(\"ciudades.txt\", \"r\") as f:\n",
        "    print(f.read())"
      ],
      "metadata": {
        "colab": {
          "base_uri": "https://localhost:8080/"
        },
        "id": "lbK_0O5_uUjo",
        "outputId": "b878b06a-bc77-4301-f582-82487297d808"
      },
      "execution_count": 41,
      "outputs": [
        {
          "output_type": "stream",
          "name": "stdout",
          "text": [
            "Ciudad\n",
            "Concepción\n",
            "Santiago\n",
            "Viña del Mar\n",
            "Valparaíso\n",
            "Puerto Montt\n",
            "La Serena\n",
            "Punta Arenas\n",
            "Iquique\n",
            "Antofagasta\n",
            "Valdivia\n",
            "Talca\n",
            "Temuco\n"
          ]
        }
      ]
    }
  ]
}