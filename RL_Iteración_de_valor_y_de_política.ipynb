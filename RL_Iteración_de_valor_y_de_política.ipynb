{
  "cells": [
    {
      "cell_type": "markdown",
      "metadata": {
        "id": "view-in-github",
        "colab_type": "text"
      },
      "source": [
        "<a href=\"https://colab.research.google.com/github/franov/analytics/blob/main/RL_Iteraci%C3%B3n_de_valor_y_de_pol%C3%ADtica.ipynb\" target=\"_parent\"><img src=\"https://colab.research.google.com/assets/colab-badge.svg\" alt=\"Open In Colab\"/></a>"
      ]
    },
    {
      "cell_type": "markdown",
      "metadata": {
        "id": "fnWcoW5JgcMK"
      },
      "source": [
        "# Resolviendo MDP"
      ]
    },
    {
      "cell_type": "markdown",
      "metadata": {
        "id": "eD4fhzd4gcMO"
      },
      "source": [
        "This notebook covers two fundamental algorithms to solve MDPs namely **Value Iteration** and **Policy Iteration**."
      ]
    },
    {
      "cell_type": "markdown",
      "metadata": {
        "id": "Us_jyFKEgcMO"
      },
      "source": [
        "## Markov Decision Process - MDP"
      ]
    },
    {
      "cell_type": "markdown",
      "metadata": {
        "id": "ZB5QfDjcgcMP"
      },
      "source": [
        "In MDP, there is an agent. The agent choose an action $a_{t}$ at time $t$ and as a consequance the enviorment changes.\n",
        "Here The evniorment is world around the agent. After the action the enviorment state changes to $s_{t+1}$.\n",
        "A reward might be emitted assciated with what just happened and then this process repeats. ![](nb_images/mdp.png)\n",
        "\n",
        "So, there is a feedback cycle in that the next action you take, the next decision you make is in a situation that's the consiquence of what you did before."
      ]
    },
    {
      "cell_type": "markdown",
      "metadata": {
        "id": "GXrtSNhAgcMP"
      },
      "source": [
        "## 1. Importando bibliotecas necesarias"
      ]
    },
    {
      "cell_type": "code",
      "source": [
        "!sudo apt install python3.9\n",
        "!pip install numpy==2.0"
      ],
      "metadata": {
        "id": "ikv7JvJ7EwTv"
      },
      "execution_count": null,
      "outputs": []
    },
    {
      "cell_type": "code",
      "execution_count": null,
      "metadata": {
        "id": "4p94FU1IgcMQ"
      },
      "outputs": [],
      "source": [
        "import numpy as np\n",
        "np.bool8 = np.bool\n",
        "import gym\n",
        "import gym.spaces as spaces\n",
        "import time"
      ]
    },
    {
      "cell_type": "code",
      "execution_count": null,
      "metadata": {
        "colab": {
          "base_uri": "https://localhost:8080/"
        },
        "id": "Ak5PQJJ2gcMR",
        "outputId": "a22f0481-b84c-4f2e-b2b7-9dc1527c4447"
      },
      "outputs": [
        {
          "output_type": "stream",
          "name": "stdout",
          "text": [
            "← ↓ → ↑\n"
          ]
        }
      ],
      "source": [
        "# action mapping for display the final result\n",
        "action_mapping = {\n",
        "    3: '\\u2191', # UP\n",
        "    2: '\\u2192', # RIGHT\n",
        "    1: '\\u2193', # DOWN\n",
        "    0: '\\u2190' # LEFT\n",
        "}\n",
        "print(' '.join([action_mapping[i] for i in range(4)]))"
      ]
    },
    {
      "cell_type": "markdown",
      "metadata": {
        "id": "KlJZBvwxgcMS"
      },
      "source": [
        "## 2. Preparar el ambiente de Gym para las interacciones"
      ]
    },
    {
      "cell_type": "markdown",
      "metadata": {
        "id": "nvpCcgq_gcMS"
      },
      "source": [
        "\n",
        "\n",
        "```\n",
        "# This is formatted as code\n",
        "```\n",
        "Se define una función que toma un ambiente de Gym y ejecuta un número de interacciones de acuerdo a una política dada\n",
        "."
      ]
    },
    {
      "cell_type": "code",
      "execution_count": null,
      "metadata": {
        "id": "byv58J7EgcMT"
      },
      "outputs": [],
      "source": [
        "def play_episodes(enviorment, n_episodes, policy, random = False):\n",
        "    \"\"\"\n",
        "    Esta función juega una cantidad de episodios especificados en n_episodes sigueindo una política dada, o tomando acciones al azar desde action_space\n",
        "\n",
        "    Parámetros:\n",
        "        enviorment: ambiente de Gym\n",
        "        n_episodes: número de episodios a correr\n",
        "        policy: Política a seguir en cada episodio.\n",
        "        random: Flag para tomar acciones aleatorias. Si es True, no debería seguirse una política y la acción sería aleatoria\n",
        "\n",
        "    Retorno:\n",
        "        wins: Número total de wins jugando n_episodios\n",
        "        total_reward: Recompensa total de los n_episodes\n",
        "        avg_reward: Recompensa promedio de los n_episodes\n",
        "\n",
        "    \"\"\"\n",
        "    # intialize wins and total reward\n",
        "    wins = 0\n",
        "    total_reward = 0\n",
        "\n",
        "    # loop over number of episodes to play\n",
        "    for episode in range(n_episodes):\n",
        "\n",
        "        # flag to check if the game is finished\n",
        "        terminated = False\n",
        "\n",
        "        # reset the enviorment every time when playing a new episode\n",
        "        state = enviorment.reset()\n",
        "\n",
        "        while not terminated:\n",
        "\n",
        "            # check if the random flag is not true then follow the given policy other wise take random action\n",
        "            if random:\n",
        "                action = enviorment.action_space.sample()\n",
        "            else:\n",
        "                action = policy[state]\n",
        "\n",
        "\n",
        "\n",
        "            # take the next step\n",
        "            next_state, reward,  terminated, info = enviorment.step(action)\n",
        "\n",
        "\n",
        "\n",
        "            enviorment.render()\n",
        "\n",
        "\n",
        "\n",
        "            # accumalate total reward\n",
        "            total_reward += reward\n",
        "\n",
        "            # change the state\n",
        "            state = next_state\n",
        "\n",
        "            # if game is over with positive reward then add 1.0 in wins\n",
        "            if terminated and reward == 1.0:\n",
        "                wins += 1\n",
        "\n",
        "    # calculate average reward\n",
        "    average_reward = total_reward / n_episodes\n",
        "\n",
        "    return wins, total_reward, average_reward\n"
      ]
    },
    {
      "cell_type": "markdown",
      "metadata": {
        "id": "1gXq-4eWgcMT"
      },
      "source": [
        "## 3. Solve for Value Iteration."
      ]
    },
    {
      "cell_type": "markdown",
      "metadata": {
        "id": "1pItrudDgcMT"
      },
      "source": [
        "![](nb_images/value_iter.png)"
      ]
    },
    {
      "cell_type": "code",
      "execution_count": null,
      "metadata": {
        "id": "jzNfNC4XgcMT"
      },
      "outputs": [],
      "source": [
        "\n",
        "def one_step_lookahead(env, state, V , discount_factor = 0.99):\n",
        "    \"\"\"\n",
        "    Calcula la función de valor del estado\n",
        "\n",
        "    Argumentos:\n",
        "        env: ambiente de gym\n",
        "        state: Estado actual\n",
        "        V: Valor estimado para cada estado, vector de tamaño observation_space.n\n",
        "        discount_factor:factor de descuento\n",
        "\n",
        "    Retorno:\n",
        "        action_values: Valor esperado de cada acción en un estado, vector de tamaño action_space.n\n",
        "    \"\"\"\n",
        "\n",
        "    # inicializando vector de acciones de valor\n",
        "    action_values = np.zeros(env.action_space.n)\n",
        "\n",
        "    # loop sobre las acciones que pueden tomarse en un ambiente\n",
        "    for action in range(env.action_space.n):\n",
        "        # loop sobre la distribución P_sa .\n",
        "        for probablity, next_state, reward, info in env.P[state][action]:\n",
        "             #si se está en un estado s y toma una acción a, se suma sobre todos los posibles estados a los que se puede llegar.\n",
        "            action_values[action] += probablity * (reward + (discount_factor * V[next_state]))\n",
        "\n",
        "    return action_values"
      ]
    },
    {
      "cell_type": "code",
      "execution_count": null,
      "metadata": {
        "id": "KYUCowoagcMU"
      },
      "outputs": [],
      "source": [
        "def update_policy(env, policy, V, discount_factor):\n",
        "\n",
        "    \"\"\"\n",
        "    Función para actualizar una política en base a una función de valor pasada como input.\n",
        "\n",
        "    Argumentos:\n",
        "        env: ambiente de Gym.\n",
        "        policy: política a actualizar\n",
        "        V: Valor estimado para cada estado, vector de tamaño observation_space.n\n",
        "        discount_factor: factor de descuento\n",
        "    Retorno:\n",
        "        policy: política actualizada en base a la función de valor-estado 'V'\n",
        "    \"\"\"\n",
        "\n",
        "    for state in range(env.observation_space.n):\n",
        "        # calcular el valor de estado-acción para cada estado\n",
        "        action_values = one_step_lookahead(env, state, V, discount_factor)\n",
        "\n",
        "        # choose the action which maximizez the state-action value.\n",
        "        policy[state] =  np.argmax(action_values)\n",
        "\n",
        "    return policy\n"
      ]
    },
    {
      "cell_type": "code",
      "execution_count": null,
      "metadata": {
        "id": "wF4p6Kb8gcMU"
      },
      "outputs": [],
      "source": [
        "def value_iteration(env, discount_factor = 0.999, max_iteration = 1000):\n",
        "    \"\"\"\n",
        "    Algoritmo para resolver un MPD.\n",
        "\n",
        "    Argumentos:\n",
        "        env: ambiente Gym.\n",
        "        discount_factor: factor de descuento\n",
        "        max_iteration:máximo número de iteraciones a ejecutar.\n",
        "\n",
        "    Retorno:\n",
        "        V: Función de valor de estado óptima. Vector de tamaño observacion_space.n\n",
        "        optimal_policy: Optimal policy. Vector of length observacion_space.n.\n",
        "\n",
        "    \"\"\"\n",
        "    # intialize value fucntion\n",
        "    V = np.zeros(env.observation_space.n)\n",
        "\n",
        "    # iterate over max_iterations\n",
        "    for i in range(max_iteration):\n",
        "\n",
        "        #  keep track of change with previous value function\n",
        "        prev_v = np.copy(V)\n",
        "\n",
        "        # loop over all states\n",
        "        for state in range(env.observation_space.n):\n",
        "\n",
        "            # Asynchronously update the state-action value\n",
        "            #action_values = one_step_lookahead(env, state, V, discount_factor)\n",
        "\n",
        "            # Synchronously update the state-action value\n",
        "            action_values = one_step_lookahead(env, state, prev_v, discount_factor)\n",
        "\n",
        "            # select best action to perform based on highest state-action value\n",
        "            best_action_value = np.max(action_values)\n",
        "\n",
        "            # update the current state-value fucntion\n",
        "            V[state] =  best_action_value\n",
        "\n",
        "        # if policy not changed over 10 iterations it converged.\n",
        "        if i % 10 == 0:\n",
        "            # if values of 'V' not changing after one iteration\n",
        "            if (np.all(np.isclose(V, prev_v))):\n",
        "                print('Value converged at iteration %d' %(i+1))\n",
        "                break\n",
        "\n",
        "    # intialize optimal policy\n",
        "    optimal_policy = np.zeros(env.observation_space.n, dtype = 'int8')\n",
        "\n",
        "    # update the optimal polciy according to optimal value function 'V'\n",
        "    optimal_policy = update_policy(env, optimal_policy, V, discount_factor)\n",
        "\n",
        "    return V, optimal_policy"
      ]
    },
    {
      "cell_type": "markdown",
      "metadata": {
        "id": "EO0o2LvGgcMU"
      },
      "source": [
        "## Evaluando el Algoritmo"
      ]
    },
    {
      "cell_type": "code",
      "execution_count": null,
      "metadata": {
        "id": "Gvr60-9ggcMU"
      },
      "outputs": [],
      "source": [
        "enviorment = gym.make('FrozenLake-v1')\n",
        "tic = time.time()\n",
        "opt_V, opt_Policy = value_iteration(enviorment.env, max_iteration = 1000)\n",
        "toc = time.time()\n",
        "elapsed_time = (toc - tic) * 1000\n",
        "print (f\"Time to converge: {elapsed_time: 0.3} ms\")\n",
        "print('Optimal Value function: ')\n",
        "print(opt_V.reshape((4, 4)))\n",
        "print('Final Policy: ')\n",
        "print(opt_Policy)\n",
        "print(' '.join([action_mapping[int(action)] for action in opt_Policy]))"
      ]
    },
    {
      "cell_type": "code",
      "execution_count": null,
      "metadata": {
        "id": "GzlAsUsIgcMV"
      },
      "outputs": [],
      "source": [
        "n_episode = 10\n",
        "wins, total_reward, avg_reward = play_episodes(enviorment, n_episode, opt_Policy, random = False)"
      ]
    },
    {
      "cell_type": "code",
      "execution_count": null,
      "metadata": {
        "id": "LuGGsfnlgcMV"
      },
      "outputs": [],
      "source": [
        "print(f'Total wins with value iteration: {wins}')\n",
        "print(f\"Average rewards with value iteration: {avg_reward}\")"
      ]
    },
    {
      "cell_type": "markdown",
      "metadata": {
        "id": "P8VRA2pqgcMV"
      },
      "source": [
        "## 4. Solve for Policy Iteration"
      ]
    },
    {
      "cell_type": "markdown",
      "metadata": {
        "id": "WvT256vegcMV"
      },
      "source": [
        "![](nb_images/policy_iter.png)"
      ]
    },
    {
      "cell_type": "code",
      "execution_count": null,
      "metadata": {
        "id": "SvlPOnwrgcMW"
      },
      "outputs": [],
      "source": [
        "def policy_eval(env, policy, V, discount_factor):\n",
        "   # COMPLETAR\n",
        "\n",
        "    return policy_value"
      ]
    },
    {
      "cell_type": "code",
      "execution_count": null,
      "metadata": {
        "id": "O7C-08VtgcMW"
      },
      "outputs": [],
      "source": [
        "def policy_iteration(env, discount_factor = 0.999, max_iteration = 1000):\n",
        "    # COMPLETAR\n",
        "    return V, policy"
      ]
    },
    {
      "cell_type": "markdown",
      "metadata": {
        "id": "j2JSgT0YgcMW"
      },
      "source": [
        "## Test Policy Iteration"
      ]
    },
    {
      "cell_type": "code",
      "execution_count": null,
      "metadata": {
        "id": "LAqdwNdogcMW"
      },
      "outputs": [],
      "source": [
        "enviorment2 = gym.make('FrozenLake-v1')\n",
        "tic = time.time()\n",
        "opt_V2, opt_policy2 = policy_iteration(enviorment2.env, discount_factor = 0.999, max_iteration = 10000)\n",
        "toc = time.time()\n",
        "elapsed_time = (toc - tic) * 1000\n",
        "print (f\"Time to converge: {elapsed_time: 0.3} ms\")\n",
        "print('Optimal Value function: ')\n",
        "print(opt_V2.reshape((4, 4)))\n",
        "print('Final Policy: ')\n",
        "print(opt_policy2)\n",
        "print(' '.join([action_mapping[(action)] for action in opt_policy2]))"
      ]
    },
    {
      "cell_type": "code",
      "execution_count": null,
      "metadata": {
        "id": "hLjq18SfgcMX"
      },
      "outputs": [],
      "source": [
        "n_episode = 10\n",
        "wins, total_reward, avg_reward = play_episodes(enviorment2, n_episode, opt_policy2, random = False)"
      ]
    },
    {
      "cell_type": "code",
      "execution_count": null,
      "metadata": {
        "id": "1NFII5kzgcMX"
      },
      "outputs": [],
      "source": [
        "print(f'Total wins con iteración de política: {wins}')\n",
        "print(f\"Recompensas promedio con iteración de política: {avg_reward}\")"
      ]
    },
    {
      "cell_type": "markdown",
      "metadata": {
        "id": "jmfeUgSNgcMX"
      },
      "source": [
        "## EJERCICIOS:\n",
        "1.- Repase los algoritmos de iteración de valor y de política de la clase pasada\n",
        "\n",
        "2.- Revise, comprenda y ejecute el código actual: ¿cuántas iteraciones tarda en converger el método de iteración de valor?\n",
        "\n",
        "3.- Complete el código de iteración de política en la sección respectiva: ¿cuántas iteraciones tarda en converger este método?\n",
        "\n",
        "4.- Comparando ambos métodos:  ¿cuál converge más rápido? puede evaluar el uso de recursos de cómputo?\n",
        "\n",
        "5.- Adapte este código para que se ejecute sobre otro ambiente de Gym (por ej cliff walking) y responda las preguntas de 2 a 4 para ese ambiente"
      ]
    },
    {
      "cell_type": "code",
      "execution_count": null,
      "metadata": {
        "id": "VI3Y1NiHgcMX"
      },
      "outputs": [],
      "source": []
    }
  ],
  "metadata": {
    "kernelspec": {
      "display_name": "Python 3",
      "language": "python",
      "name": "python3"
    },
    "language_info": {
      "codemirror_mode": {
        "name": "ipython",
        "version": 3
      },
      "file_extension": ".py",
      "mimetype": "text/x-python",
      "name": "python",
      "nbconvert_exporter": "python",
      "pygments_lexer": "ipython3",
      "version": "3.6.5"
    },
    "colab": {
      "provenance": [],
      "include_colab_link": true
    }
  },
  "nbformat": 4,
  "nbformat_minor": 0
}