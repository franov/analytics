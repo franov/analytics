{
  "nbformat": 4,
  "nbformat_minor": 0,
  "metadata": {
    "colab": {
      "provenance": [],
      "toc_visible": true
    },
    "kernelspec": {
      "name": "python3",
      "display_name": "Python 3"
    },
    "language_info": {
      "name": "python"
    }
  },
  "cells": [
    {
      "cell_type": "markdown",
      "source": [
        "# Experta en Google Colab"
      ],
      "metadata": {
        "id": "iTRKZiZH88bu"
      }
    },
    {
      "cell_type": "markdown",
      "source": [
        "[Experta](https://pypi.org/project/experta/) es una biblioteca para Python que permite la creación de sistemas expertos. Está inspirada en la biblioteca CLIPS, que es un conocido sistema experto desarrollado por la NASA. Experta utiliza un enfoque declarativo para definir hechos y reglas que luego se pueden utilizar para realizar inferencias.\n",
        "\n",
        "\n",
        "---\n",
        "Colab Notebook creado por **Francisco Ortiz Vidal**"
      ],
      "metadata": {
        "id": "eQ1ZTm3H9-89"
      }
    },
    {
      "cell_type": "markdown",
      "source": [
        "## Características de Experta\n",
        "Experta es ideal para proyectos donde necesitas modelar el comportamiento basado en reglas complejas, como en diagnósticos médicos, toma de decisiones en negocios, o cualquier otro dominio donde las decisiones pueden ser modeladas como un conjunto de reglas lógicas aplicadas a un conjunto de datos.\n",
        "\n",
        "### Principales características de Experta\n",
        "* **Sistema de Producción de Reglas**: Permite definir reglas que especifican qué acciones tomar en función de los hechos disponibles.\n",
        "* **Motor de Inferencia**: Ejecuta las reglas en el contexto de los hechos conocidos para deducir nuevos hechos o realizar acciones.\n",
        "* **Declarativo**: Las reglas y hechos se definen de manera declarativa, lo que facilita la separación del conocimiento del procedimiento."
      ],
      "metadata": {
        "id": "Ph0uDywk-F0b"
      }
    },
    {
      "cell_type": "markdown",
      "source": [
        "## Instalación de Experta en Google Colab"
      ],
      "metadata": {
        "id": "JgYtgS38-laP"
      }
    },
    {
      "cell_type": "markdown",
      "source": [
        "Experta está sólo disponible para las versiones Python de la 3.5 a 3.8. Sin embargo, Google Colab corre sobre Python 3.10. Para instalar experta, se debe hacer uso de pip, el gestor de paquetes de Python y hacer algunos cambios a la configuración del entorno."
      ],
      "metadata": {
        "id": "PqpYoWVP-tCQ"
      }
    },
    {
      "cell_type": "markdown",
      "source": [
        "### Revisión de la versión instalada de Python"
      ],
      "metadata": {
        "id": "We7ddOLo_be4"
      }
    },
    {
      "cell_type": "markdown",
      "source": [
        "Revisamos la versión instalada de Python en la máquina virtual de Google Colab."
      ],
      "metadata": {
        "id": "70L_u0TVBJzf"
      }
    },
    {
      "cell_type": "code",
      "source": [
        "# Revisamos la versión y verificamos que está corriendo la 3.10.x\n",
        "!python3 --version"
      ],
      "metadata": {
        "id": "axfzfTL-DmEv",
        "colab": {
          "base_uri": "https://localhost:8080/"
        },
        "outputId": "c3afe9f0-ac1c-4384-e12f-63c8a2f525bb"
      },
      "execution_count": 1,
      "outputs": [
        {
          "output_type": "stream",
          "name": "stdout",
          "text": [
            "Python 3.10.12\n"
          ]
        }
      ]
    },
    {
      "cell_type": "markdown",
      "source": [
        "### Instalando la versión de Python 3.8\n",
        "Dado que Experta no corre sobre la versión 3.10 de Python, es necesario realizar la instalación de Python 3.8, la última versión soportada por la biblioteca."
      ],
      "metadata": {
        "id": "e8f5Lwsg_rn5"
      }
    },
    {
      "cell_type": "code",
      "source": [
        "# Usando SUDO, instalamos Python 3.8\n",
        "!sudo apt-get install python3.8 python3.8-distutils python3-pip"
      ],
      "metadata": {
        "colab": {
          "base_uri": "https://localhost:8080/"
        },
        "id": "Si6w19xqFgwR",
        "outputId": "61501137-1d17-4052-8255-44ef511fdc3d"
      },
      "execution_count": 2,
      "outputs": [
        {
          "output_type": "stream",
          "name": "stdout",
          "text": [
            "Reading package lists... Done\n",
            "Building dependency tree... Done\n",
            "Reading state information... Done\n",
            "The following additional packages will be installed:\n",
            "  libpython3.8-minimal libpython3.8-stdlib mailcap mime-support\n",
            "  python3-setuptools python3-wheel python3.8-lib2to3 python3.8-minimal\n",
            "Suggested packages:\n",
            "  python-setuptools-doc python3.8-venv binfmt-support\n",
            "The following NEW packages will be installed:\n",
            "  libpython3.8-minimal libpython3.8-stdlib mailcap mime-support python3-pip\n",
            "  python3-setuptools python3-wheel python3.8 python3.8-distutils\n",
            "  python3.8-lib2to3 python3.8-minimal\n",
            "0 upgraded, 11 newly installed, 0 to remove and 45 not upgraded.\n",
            "Need to get 7,098 kB of archives.\n",
            "After this operation, 29.1 MB of additional disk space will be used.\n",
            "Get:1 http://archive.ubuntu.com/ubuntu jammy/main amd64 mailcap all 3.70+nmu1ubuntu1 [23.8 kB]\n",
            "Get:2 http://archive.ubuntu.com/ubuntu jammy/main amd64 mime-support all 3.66 [3,696 B]\n",
            "Get:3 http://archive.ubuntu.com/ubuntu jammy-updates/main amd64 python3-setuptools all 59.6.0-1.2ubuntu0.22.04.1 [339 kB]\n",
            "Get:4 https://ppa.launchpadcontent.net/deadsnakes/ppa/ubuntu jammy/main amd64 libpython3.8-minimal amd64 3.8.19-1+jammy1 [794 kB]\n",
            "Get:5 http://archive.ubuntu.com/ubuntu jammy-updates/universe amd64 python3-wheel all 0.37.1-2ubuntu0.22.04.1 [32.0 kB]\n",
            "Get:6 http://archive.ubuntu.com/ubuntu jammy-updates/universe amd64 python3-pip all 22.0.2+dfsg-1ubuntu0.4 [1,305 kB]\n",
            "Get:7 https://ppa.launchpadcontent.net/deadsnakes/ppa/ubuntu jammy/main amd64 python3.8-minimal amd64 3.8.19-1+jammy1 [2,025 kB]\n",
            "Get:8 https://ppa.launchpadcontent.net/deadsnakes/ppa/ubuntu jammy/main amd64 libpython3.8-stdlib amd64 3.8.19-1+jammy1 [1,817 kB]\n",
            "Get:9 https://ppa.launchpadcontent.net/deadsnakes/ppa/ubuntu jammy/main amd64 python3.8 amd64 3.8.19-1+jammy1 [439 kB]\n",
            "Get:10 https://ppa.launchpadcontent.net/deadsnakes/ppa/ubuntu jammy/main amd64 python3.8-lib2to3 all 3.8.19-1+jammy1 [126 kB]\n",
            "Get:11 https://ppa.launchpadcontent.net/deadsnakes/ppa/ubuntu jammy/main amd64 python3.8-distutils all 3.8.19-1+jammy1 [193 kB]\n",
            "Fetched 7,098 kB in 4s (1,799 kB/s)\n",
            "debconf: unable to initialize frontend: Dialog\n",
            "debconf: (No usable dialog-like program is installed, so the dialog based frontend cannot be used. at /usr/share/perl5/Debconf/FrontEnd/Dialog.pm line 78, <> line 11.)\n",
            "debconf: falling back to frontend: Readline\n",
            "debconf: unable to initialize frontend: Readline\n",
            "debconf: (This frontend requires a controlling tty.)\n",
            "debconf: falling back to frontend: Teletype\n",
            "dpkg-preconfigure: unable to re-open stdin: \n",
            "Selecting previously unselected package libpython3.8-minimal:amd64.\n",
            "(Reading database ... 121920 files and directories currently installed.)\n",
            "Preparing to unpack .../00-libpython3.8-minimal_3.8.19-1+jammy1_amd64.deb ...\n",
            "Unpacking libpython3.8-minimal:amd64 (3.8.19-1+jammy1) ...\n",
            "Selecting previously unselected package python3.8-minimal.\n",
            "Preparing to unpack .../01-python3.8-minimal_3.8.19-1+jammy1_amd64.deb ...\n",
            "Unpacking python3.8-minimal (3.8.19-1+jammy1) ...\n",
            "Selecting previously unselected package mailcap.\n",
            "Preparing to unpack .../02-mailcap_3.70+nmu1ubuntu1_all.deb ...\n",
            "Unpacking mailcap (3.70+nmu1ubuntu1) ...\n",
            "Selecting previously unselected package mime-support.\n",
            "Preparing to unpack .../03-mime-support_3.66_all.deb ...\n",
            "Unpacking mime-support (3.66) ...\n",
            "Selecting previously unselected package libpython3.8-stdlib:amd64.\n",
            "Preparing to unpack .../04-libpython3.8-stdlib_3.8.19-1+jammy1_amd64.deb ...\n",
            "Unpacking libpython3.8-stdlib:amd64 (3.8.19-1+jammy1) ...\n",
            "Selecting previously unselected package python3-setuptools.\n",
            "Preparing to unpack .../05-python3-setuptools_59.6.0-1.2ubuntu0.22.04.1_all.deb ...\n",
            "Unpacking python3-setuptools (59.6.0-1.2ubuntu0.22.04.1) ...\n",
            "Selecting previously unselected package python3-wheel.\n",
            "Preparing to unpack .../06-python3-wheel_0.37.1-2ubuntu0.22.04.1_all.deb ...\n",
            "Unpacking python3-wheel (0.37.1-2ubuntu0.22.04.1) ...\n",
            "Selecting previously unselected package python3-pip.\n",
            "Preparing to unpack .../07-python3-pip_22.0.2+dfsg-1ubuntu0.4_all.deb ...\n",
            "Unpacking python3-pip (22.0.2+dfsg-1ubuntu0.4) ...\n",
            "Selecting previously unselected package python3.8.\n",
            "Preparing to unpack .../08-python3.8_3.8.19-1+jammy1_amd64.deb ...\n",
            "Unpacking python3.8 (3.8.19-1+jammy1) ...\n",
            "Selecting previously unselected package python3.8-lib2to3.\n",
            "Preparing to unpack .../09-python3.8-lib2to3_3.8.19-1+jammy1_all.deb ...\n",
            "Unpacking python3.8-lib2to3 (3.8.19-1+jammy1) ...\n",
            "Selecting previously unselected package python3.8-distutils.\n",
            "Preparing to unpack .../10-python3.8-distutils_3.8.19-1+jammy1_all.deb ...\n",
            "Unpacking python3.8-distutils (3.8.19-1+jammy1) ...\n",
            "Setting up libpython3.8-minimal:amd64 (3.8.19-1+jammy1) ...\n",
            "Setting up python3-setuptools (59.6.0-1.2ubuntu0.22.04.1) ...\n",
            "Setting up python3-wheel (0.37.1-2ubuntu0.22.04.1) ...\n",
            "Setting up python3.8-lib2to3 (3.8.19-1+jammy1) ...\n",
            "Setting up python3-pip (22.0.2+dfsg-1ubuntu0.4) ...\n",
            "Setting up python3.8-minimal (3.8.19-1+jammy1) ...\n",
            "Setting up python3.8-distutils (3.8.19-1+jammy1) ...\n",
            "Setting up mailcap (3.70+nmu1ubuntu1) ...\n",
            "Setting up mime-support (3.66) ...\n",
            "Setting up libpython3.8-stdlib:amd64 (3.8.19-1+jammy1) ...\n",
            "Setting up python3.8 (3.8.19-1+jammy1) ...\n",
            "Processing triggers for man-db (2.10.2-1) ...\n"
          ]
        }
      ]
    },
    {
      "cell_type": "code",
      "source": [
        "# Cambiamos las prioridades de la máquina para cuando realiza el llamado a Python\n",
        "!sudo update-alternatives --install /usr/bin/python3 python3 /usr/bin/python3.8 1"
      ],
      "metadata": {
        "id": "ZROVRq_BFtlL",
        "colab": {
          "base_uri": "https://localhost:8080/"
        },
        "outputId": "83b6760e-f6fa-44fa-be87-bd13a3e541d0"
      },
      "execution_count": 3,
      "outputs": [
        {
          "output_type": "stream",
          "name": "stdout",
          "text": [
            "update-alternatives: using /usr/bin/python3.8 to provide /usr/bin/python3 (python3) in auto mode\n"
          ]
        }
      ]
    },
    {
      "cell_type": "code",
      "source": [
        "# Revisamos la versión instalada\n",
        "!python3 --version"
      ],
      "metadata": {
        "colab": {
          "base_uri": "https://localhost:8080/"
        },
        "id": "3r_FzeCDFoko",
        "outputId": "64b7de7c-99f8-4e94-b0ea-6b615dd69e26"
      },
      "execution_count": 4,
      "outputs": [
        {
          "output_type": "stream",
          "name": "stdout",
          "text": [
            "Python 3.8.19\n"
          ]
        }
      ]
    },
    {
      "cell_type": "code",
      "source": [
        "# Cambiamos el PATH de Python para que haga uso de la versión 3.8\n",
        "import sys\n",
        "# Borramos cualquier referencia a Python 3.10 en el PATH\n",
        "sys.path.remove('/usr/lib/python310.zip')\n",
        "sys.path.remove('/usr/lib/python3.10')\n",
        "sys.path.remove('/usr/lib/python3.10/lib-dynload')\n",
        "sys.path.remove('/usr/local/lib/python3.10/dist-packages')\n",
        "sys.path.remove('/usr/local/lib/python3.10/dist-packages/IPython/extensions')"
      ],
      "metadata": {
        "id": "k0s18xyEKsxd"
      },
      "execution_count": 5,
      "outputs": []
    },
    {
      "cell_type": "code",
      "source": [
        "# Agregamos las referencias de Python 3.8\n",
        "sys.path.append('/usr/local/lib/python3.8/dist-packages')\n",
        "sys.path.append('/usr/lib/python3/dist-packages')\n",
        "print(sys.path)"
      ],
      "metadata": {
        "colab": {
          "base_uri": "https://localhost:8080/"
        },
        "id": "9onrYpEq76qK",
        "outputId": "a85f22bc-f364-43d4-91ad-d083d2c9d2cf"
      },
      "execution_count": 6,
      "outputs": [
        {
          "output_type": "stream",
          "name": "stdout",
          "text": [
            "['/content', '/env/python', '', '/usr/lib/python3/dist-packages', '/root/.ipython', '/usr/local/lib/python3.8/dist-packages', '/usr/lib/python3/dist-packages']\n"
          ]
        }
      ]
    },
    {
      "cell_type": "markdown",
      "source": [
        "### Instalamos Experta en Google Colab"
      ],
      "metadata": {
        "id": "IaAEWsw6AvBj"
      }
    },
    {
      "cell_type": "code",
      "source": [
        "# Haciendo uno de PIP instalamos la biblioteca Experta\n",
        "!pip install experta"
      ],
      "metadata": {
        "id": "eXlcnUlAFzmg",
        "colab": {
          "base_uri": "https://localhost:8080/"
        },
        "outputId": "42e6fbfd-2043-4bf3-dce4-9718700059ad"
      },
      "execution_count": 7,
      "outputs": [
        {
          "output_type": "stream",
          "name": "stdout",
          "text": [
            "Collecting experta\n",
            "  Downloading experta-1.9.4-py3-none-any.whl (35 kB)\n",
            "Collecting schema==0.6.7\n",
            "  Downloading schema-0.6.7-py2.py3-none-any.whl (14 kB)\n",
            "Collecting frozendict==1.2\n",
            "  Downloading frozendict-1.2.tar.gz (2.6 kB)\n",
            "  Preparing metadata (setup.py) ... \u001b[?25l\u001b[?25hdone\n",
            "Building wheels for collected packages: frozendict\n",
            "  Building wheel for frozendict (setup.py) ... \u001b[?25l\u001b[?25hdone\n",
            "  Created wheel for frozendict: filename=frozendict-1.2-py3-none-any.whl size=3166 sha256=dfc3ee117f82a48a8440e1e4bdcd170339f796a37d047ab7d59aad4c51589a1a\n",
            "  Stored in directory: /root/.cache/pip/wheels/9b/9b/56/5713233cf7226423ab6c58c08081551a301b5863e343ba053c\n",
            "Successfully built frozendict\n",
            "Installing collected packages: schema, frozendict, experta\n",
            "Successfully installed experta-1.9.4 frozendict-1.2 schema-0.6.7\n",
            "\u001b[33mWARNING: Running pip as the 'root' user can result in broken permissions and conflicting behaviour with the system package manager. It is recommended to use a virtual environment instead: https://pip.pypa.io/warnings/venv\u001b[0m\u001b[33m\n",
            "\u001b[0m"
          ]
        }
      ]
    },
    {
      "cell_type": "markdown",
      "source": [
        "#### Corrección de errores post instalación"
      ],
      "metadata": {
        "id": "0x61vcAyBdll"
      }
    },
    {
      "cell_type": "markdown",
      "source": [
        "En la biblioteca **frozendict** que se instaló como requisito previo a **Experta**, hay un error en la línea 16, porque usa una función ya no disponible en la biblioteca collections, debido que ahora se encuentra en collections.abc. Para corregirlo, reemplazamos la línea que contiene el error por la adecuada."
      ],
      "metadata": {
        "id": "15H6VJhZBq4Y"
      }
    },
    {
      "cell_type": "code",
      "source": [
        "# Se corrige la línea, reemplazando Mapping con el nueva biblioteca\n",
        "# de Collections que se encuentra en abc.Mapping\n",
        "!sed -i 's/collections.Mapping/collections.abc.Mapping/g' /usr/local/lib/python3.8/dist-packages/frozendict/__init__.py"
      ],
      "metadata": {
        "id": "RlAUcHLE33JL"
      },
      "execution_count": 8,
      "outputs": []
    },
    {
      "cell_type": "markdown",
      "source": [
        "## Ejecutamos algunos ejemplos"
      ],
      "metadata": {
        "id": "I8xKWkO2A7cq"
      }
    },
    {
      "cell_type": "markdown",
      "source": [
        "Probamos la instalación exitosa de la biblioteca a través de algunos ejercicios."
      ],
      "metadata": {
        "id": "_-Tfw-BCA_Ic"
      }
    },
    {
      "cell_type": "markdown",
      "source": [
        "### Encender y apagar la luz"
      ],
      "metadata": {
        "id": "i5SWPENHDPeu"
      }
    },
    {
      "cell_type": "code",
      "source": [
        "# Importamos la biblioteca\n",
        "from experta import *"
      ],
      "metadata": {
        "id": "HPElGckwDvgj"
      },
      "execution_count": 9,
      "outputs": []
    },
    {
      "cell_type": "code",
      "source": [
        "# Definimos la clase\n",
        "class Luz(Fact):\n",
        "    \"\"\"Info acerca del estado de la luz.\"\"\"\n",
        "    pass\n",
        "\n",
        "class LuzExpert(KnowledgeEngine):\n",
        "    @Rule(Luz(status='on'))\n",
        "    def luz_encendida(self):\n",
        "        print(\"La luz está encendida.\")\n",
        "\n",
        "    @Rule(Luz(status='off'))\n",
        "    def luz_apagada(self):\n",
        "        print(\"La luz está apagada.\")"
      ],
      "metadata": {
        "id": "HKRIwqk5DR5N"
      },
      "execution_count": 10,
      "outputs": []
    },
    {
      "cell_type": "code",
      "source": [
        "# Instanciamos la clase LuzExpert\n",
        "engine = LuzExpert()\n",
        "engine.reset()  # Preparanos el motor para la ejecución."
      ],
      "metadata": {
        "id": "eqwsH14pDcsJ"
      },
      "execution_count": 11,
      "outputs": []
    },
    {
      "cell_type": "code",
      "source": [
        "# Lo ejecutamos\n",
        "engine.declare(Luz(status='on'))\n",
        "engine.run()"
      ],
      "metadata": {
        "colab": {
          "base_uri": "https://localhost:8080/"
        },
        "id": "Tr2JaqWMDrg9",
        "outputId": "4cc728ef-c908-4fe1-e2a3-9d07bbff1c69"
      },
      "execution_count": 12,
      "outputs": [
        {
          "output_type": "stream",
          "name": "stdout",
          "text": [
            "La luz está encendida.\n"
          ]
        }
      ]
    },
    {
      "cell_type": "markdown",
      "source": [
        "### Fibonacci en Experta"
      ],
      "metadata": {
        "id": "JOCxi0z5DCCe"
      }
    },
    {
      "cell_type": "code",
      "execution_count": 13,
      "metadata": {
        "id": "9Gbf7_r3Dfq6"
      },
      "outputs": [],
      "source": [
        "# Importamos las bibliotecas\n",
        "from random import choice\n",
        "from experta import *"
      ]
    },
    {
      "cell_type": "code",
      "source": [
        "# Definimos la clase en formato SBC de Experta\n",
        "class FibonacciDigit(Fact):\n",
        "    position = Field(int, mandatory=True)\n",
        "    value = Field(int, mandatory=True)\n",
        "\n",
        "\n",
        "class FibonacciCalculator(KnowledgeEngine):\n",
        "    @DefFacts()\n",
        "    def set_target_position(self, target):\n",
        "        yield Fact(target_position=target)\n",
        "\n",
        "    @DefFacts()\n",
        "    def init_sequence(self):\n",
        "        yield FibonacciDigit(position=1, value=1)\n",
        "        yield FibonacciDigit(position=2, value=1)\n",
        "\n",
        "    @Rule(\n",
        "        FibonacciDigit(\n",
        "            position=MATCH.p1,\n",
        "            value=MATCH.v1),\n",
        "        FibonacciDigit(\n",
        "            position=MATCH.p2,\n",
        "            value=MATCH.v2),\n",
        "        TEST(\n",
        "            lambda p1, p2: p2 == p1 + 1),\n",
        "        Fact(\n",
        "            target_position=MATCH.t),\n",
        "        TEST(\n",
        "            lambda p2, t: p2 < t))\n",
        "    def compute_next(self, p2, v1, v2):\n",
        "        next_digit = FibonacciDigit(\n",
        "            position=p2 + 1,\n",
        "            value=v1 + v2)\n",
        "\n",
        "        self.declare(next_digit)\n",
        "\n",
        "    @Rule(\n",
        "        Fact(\n",
        "            target_position=MATCH.t),\n",
        "        FibonacciDigit(\n",
        "            position=MATCH.t,\n",
        "            value=MATCH.v))\n",
        "    def print_last(self, t, v):\n",
        "        print(\"El número Fibonnaci en la posición {position} es {value}\".format(\n",
        "            position=t, value=v))"
      ],
      "metadata": {
        "id": "3YofPTlGJ3Z6"
      },
      "execution_count": 14,
      "outputs": []
    },
    {
      "cell_type": "code",
      "source": [
        "# Instanciamos la clase en la variable f\n",
        "f = FibonacciCalculator()"
      ],
      "metadata": {
        "id": "OM4GGFbeJ6vA"
      },
      "execution_count": 15,
      "outputs": []
    },
    {
      "cell_type": "code",
      "source": [
        "# Y probamos el funcionamiento, generando el número Fibonacci que se encuentra\n",
        "# en la posición 100\n",
        "f.reset(target=100)\n",
        "f.run()"
      ],
      "metadata": {
        "id": "YB7WCpKDJ_bo",
        "colab": {
          "base_uri": "https://localhost:8080/"
        },
        "outputId": "cfa5980e-94b9-445b-bd45-f8a50fd328f2"
      },
      "execution_count": 16,
      "outputs": [
        {
          "output_type": "stream",
          "name": "stdout",
          "text": [
            "El número Fibonnaci en la posición 100 es 354224848179261915075\n"
          ]
        }
      ]
    }
  ]
}